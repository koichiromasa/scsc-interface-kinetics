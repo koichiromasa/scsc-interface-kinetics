{
  "nbformat": 4,
  "nbformat_minor": 0,
  "metadata": {
    "colab": {
      "provenance": [],
      "machine_shape": "hm",
      "authorship_tag": "ABX9TyO9XfYdkL9dGrTPs6RGWxve",
      "include_colab_link": true
    },
    "kernelspec": {
      "name": "python3",
      "display_name": "Python 3"
    },
    "language_info": {
      "name": "python"
    }
  },
  "cells": [
    {
      "cell_type": "markdown",
      "metadata": {
        "id": "view-in-github",
        "colab_type": "text"
      },
      "source": [
        "<a href=\"https://colab.research.google.com/github/koichiromasa/scsc-interface-kinetics/blob/main/frame_extraction.ipynb\" target=\"_parent\"><img src=\"https://colab.research.google.com/assets/colab-badge.svg\" alt=\"Open In Colab\"/></a>"
      ]
    },
    {
      "cell_type": "markdown",
      "source": [
        "1. Google Drive のマウント"
      ],
      "metadata": {
        "id": "xOTb2wyBi26E"
      }
    },
    {
      "cell_type": "code",
      "source": [
        "import cv2\n",
        "import os\n",
        "from google.colab import drive\n",
        "from tqdm import tqdm\n",
        "\n",
        "# Google Drive をマウント\n",
        "drive.mount('/content/drive')\n"
      ],
      "metadata": {
        "id": "d4JukeG1bwNb",
        "colab": {
          "base_uri": "https://localhost:8080/"
        },
        "outputId": "7346f5bc-0673-4819-8f3d-635bac8ee4e5"
      },
      "execution_count": null,
      "outputs": [
        {
          "output_type": "stream",
          "name": "stdout",
          "text": [
            "Mounted at /content/drive\n"
          ]
        }
      ]
    },
    {
      "cell_type": "markdown",
      "source": [
        "2. 設定（入力・出力フォルダ"
      ],
      "metadata": {
        "id": "3Xy0Tpzhi84k"
      }
    },
    {
      "cell_type": "code",
      "source": [
        "# === 設定（入力・出力フォルダ） ===\n",
        "input_video_path = \"/content/drive/My Drive/Colab Notebooks/raw_data/POM_movie/25_120.mp4\"\n",
        "output_base_dir = \"/content/drive/My Drive/Colab Notebooks/result_data/POM_movie\"\n",
        "video_name = os.path.splitext(os.path.basename(input_video_path))[0]\n",
        "\n",
        "output_frames_dir = os.path.join(output_base_dir, video_name)\n",
        "os.makedirs(output_frames_dir, exist_ok=True)\n",
        "\n",
        "print(f\"✅ 入力動画パス: {input_video_path}\")\n",
        "print(f\"✅ 出力フォルダ: {output_frames_dir}\")\n"
      ],
      "metadata": {
        "colab": {
          "base_uri": "https://localhost:8080/"
        },
        "id": "G0K0NcophlpO",
        "outputId": "2a4f7134-9ee2-4c96-abd6-2ca5b0768ec6"
      },
      "execution_count": null,
      "outputs": [
        {
          "output_type": "stream",
          "name": "stdout",
          "text": [
            "✅ 入力動画パス: /content/drive/My Drive/Colab Notebooks/raw_data/POM_movie/25_120.mp4\n",
            "✅ 出力フォルダ: /content/drive/My Drive/Colab Notebooks/result_data/POM_movie/25_120\n"
          ]
        }
      ]
    },
    {
      "cell_type": "markdown",
      "source": [
        "3. 解析条件"
      ],
      "metadata": {
        "id": "Gdv4kz4h2v8e"
      }
    },
    {
      "cell_type": "code",
      "source": [
        "# 解析条件\n",
        "start_temp = 120.0   # 開始温度 (°C)\n",
        "heating_rate = 0   # 昇温速度 (°C/min)\n"
      ],
      "metadata": {
        "id": "H-5hSq7U2y3x"
      },
      "execution_count": null,
      "outputs": []
    },
    {
      "cell_type": "markdown",
      "source": [
        "4.  動画の情報を取得"
      ],
      "metadata": {
        "id": "YWomgmsbsj-q"
      }
    },
    {
      "cell_type": "code",
      "source": [
        "# === 動画の情報を取得 ===\n",
        "cap = cv2.VideoCapture(input_video_path)\n",
        "fps = cap.get(cv2.CAP_PROP_FPS)\n",
        "frame_count = int(cap.get(cv2.CAP_PROP_FRAME_COUNT))\n",
        "\n",
        "if not cap.isOpened():\n",
        "    print(f\"⚠ エラー: 動画 {input_video_path} を開けませんでした。\")\n",
        "    exit()\n",
        "\n",
        "print(f\"🎥 動画情報: {frame_count} フレーム, {fps:.4f} FPS\")\n"
      ],
      "metadata": {
        "colab": {
          "base_uri": "https://localhost:8080/"
        },
        "id": "uBuWELqmsjKv",
        "outputId": "66ef4a13-1ae9-4fbb-9bea-a66e0b9401e4"
      },
      "execution_count": null,
      "outputs": [
        {
          "output_type": "stream",
          "name": "stdout",
          "text": [
            "🎥 動画情報: 17433 フレーム, 19.3592 FPS\n"
          ]
        }
      ]
    },
    {
      "cell_type": "markdown",
      "source": [
        "5.  動画をフレームごとに分割 & 保存"
      ],
      "metadata": {
        "id": "RRf4qKlgjNMv"
      }
    },
    {
      "cell_type": "code",
      "source": [
        "# === フレーム分割 & 保存 ===\n",
        "progress_bar = tqdm(total=frame_count, desc=\"Processing Frames\", unit=\"frame\")\n",
        "\n",
        "for frame_idx in range(frame_count):\n",
        "    ret, frame = cap.read()\n",
        "    if not ret:\n",
        "        break\n",
        "\n",
        "    # === 時間 & 温度計算 ===\n",
        "    time_sec = frame_idx / fps\n",
        "    temp_c = start_temp + (heating_rate / 60.0) * time_sec\n",
        "\n",
        "    # === ファイル名の設定 ===\n",
        "    frame_filename = os.path.join(output_frames_dir, f\"{frame_idx:06d}_{time_sec:.4f}s_{temp_c:.1f}C.png\")\n",
        "\n",
        "    # フレームを保存\n",
        "    cv2.imwrite(frame_filename, frame)\n",
        "\n",
        "    # 進行状況を更新\n",
        "    progress_bar.update(1)\n",
        "\n",
        "cap.release()\n",
        "progress_bar.close()\n",
        "print(f\"\\n✅ フレーム画像を {output_frames_dir} に保存しました\")\n"
      ],
      "metadata": {
        "colab": {
          "base_uri": "https://localhost:8080/"
        },
        "id": "-Qhke2avjKg2",
        "outputId": "b9229946-fb3c-4321-874b-67ff6df73b69"
      },
      "execution_count": null,
      "outputs": [
        {
          "output_type": "stream",
          "name": "stderr",
          "text": [
            "Processing Frames: 100%|██████████| 17433/17433 [26:35<00:00, 10.92frame/s]"
          ]
        },
        {
          "output_type": "stream",
          "name": "stdout",
          "text": [
            "\n",
            "✅ フレーム画像を /content/drive/My Drive/Colab Notebooks/result_data/POM_movie/25_120 に保存しました\n"
          ]
        },
        {
          "output_type": "stream",
          "name": "stderr",
          "text": [
            "\n"
          ]
        }
      ]
    },
    {
      "cell_type": "markdown",
      "source": [
        "4. フレーム情報の保存"
      ],
      "metadata": {
        "id": "NF9SfPSujUNJ"
      }
    },
    {
      "cell_type": "code",
      "source": [
        "# === フレーム情報を保存 ===\n",
        "frame_info_path = os.path.join(output_frames_dir, \"frame_info.txt\")\n",
        "with open(frame_info_path, \"w\") as f:\n",
        "    f.write(f\"Total Frames: {frame_count}\\n\")\n",
        "    f.write(f\"FPS: {fps:.4f}\\n\")\n",
        "print(f\"✅ フレーム情報を {frame_info_path} に保存しました\")\n"
      ],
      "metadata": {
        "id": "mlVIAZ54jTa7",
        "colab": {
          "base_uri": "https://localhost:8080/"
        },
        "outputId": "0883e371-fec2-41bd-812d-9fcd07fbcaf5"
      },
      "execution_count": null,
      "outputs": [
        {
          "output_type": "stream",
          "name": "stdout",
          "text": [
            "✅ フレーム情報を /content/drive/My Drive/Colab Notebooks/result_data/POM_movie/25_120/frame_info.txt に保存しました\n"
          ]
        }
      ]
    },
    {
      "cell_type": "code",
      "source": [],
      "metadata": {
        "id": "xRGLlq6EPsOM"
      },
      "execution_count": null,
      "outputs": []
    }
  ]
}